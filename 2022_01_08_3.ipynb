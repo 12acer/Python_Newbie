{
 "cells": [
  {
   "cell_type": "code",
   "execution_count": 1,
   "id": "e8a9251e",
   "metadata": {},
   "outputs": [
    {
     "name": "stdout",
     "output_type": "stream",
     "text": [
      "[100, 130, 140, 150, 160, 170]\n"
     ]
    }
   ],
   "source": [
    "# 061\n",
    "# price 변수에는 날짜와 종가 정보가 저장되어 있다\n",
    "# 날짜 정보를 제외하고 가격 정보만을 출력하라\n",
    "# 힌트 : 슬라이싱\n",
    "\n",
    "price = ['20180728', 100, 130, 140, 150, 160, 170]\n",
    "price_nodate = price[1:]\n",
    "print(price_nodate)"
   ]
  },
  {
   "cell_type": "code",
   "execution_count": 2,
   "id": "c5b9ffc2",
   "metadata": {},
   "outputs": [
    {
     "name": "stdout",
     "output_type": "stream",
     "text": [
      "[1, 3, 5, 7, 9]\n"
     ]
    }
   ],
   "source": [
    "# 062\n",
    "# 슬라이싱을 사용해서 홀수만 출력하라\n",
    "\n",
    "nums = [1, 2, 3, 4, 5, 6, 7, 8, 9, 10]\n",
    "nums_odd = nums[0 : : 2]\n",
    "print(nums_odd)"
   ]
  },
  {
   "cell_type": "code",
   "execution_count": 3,
   "id": "8024ca20",
   "metadata": {},
   "outputs": [
    {
     "name": "stdout",
     "output_type": "stream",
     "text": [
      "[2, 4, 6, 8, 10]\n"
     ]
    }
   ],
   "source": [
    "# 063\n",
    "# 슬라이싱을 사용해서 짝수만 출력하라\n",
    "\n",
    "nums = [1, 2, 3, 4, 5, 6, 7, 8, 9, 10]\n",
    "nums_even = nums[1 : : 2]\n",
    "print(nums_even)"
   ]
  },
  {
   "cell_type": "code",
   "execution_count": 4,
   "id": "8851fc3b",
   "metadata": {},
   "outputs": [
    {
     "name": "stdout",
     "output_type": "stream",
     "text": [
      "[5, 4, 3, 2, 1]\n"
     ]
    }
   ],
   "source": [
    "# 064\n",
    "# 슬라이싱을 사용해서 리스트의 숫자를 역방향으로 출력하라\n",
    "\n",
    "nums = [1, 2, 3, 4, 5]\n",
    "nums_reverse = nums[::-1]\n",
    "print(nums_reverse)"
   ]
  },
  {
   "cell_type": "code",
   "execution_count": 5,
   "id": "c3c69f23",
   "metadata": {},
   "outputs": [],
   "source": [
    "# 065\n",
    "# interest 리스트에는 아래의 데이터가 바인딩되어 있다\n",
    "# interest 리스트를 사용하여 아래와 같이 화면에 출력하라\n",
    "\n",
    "interest = ['삼성전자', 'LG전자', 'Naver']"
   ]
  },
  {
   "cell_type": "markdown",
   "id": "a35a641e",
   "metadata": {},
   "source": [
    "삼성전자 Naver"
   ]
  },
  {
   "cell_type": "code",
   "execution_count": 6,
   "id": "a924271a",
   "metadata": {},
   "outputs": [
    {
     "name": "stdout",
     "output_type": "stream",
     "text": [
      "삼성전자 Naver\n"
     ]
    }
   ],
   "source": [
    "print(interest[0], interest[2])"
   ]
  },
  {
   "cell_type": "code",
   "execution_count": 7,
   "id": "29f50848",
   "metadata": {},
   "outputs": [],
   "source": [
    "# 066 join 메소드\n",
    "# interest 리스트에는 아래의 데이터가 바인딩되어 있다\n",
    "interest = ['삼성전자', 'LG전자', 'Naver', 'SK하이닉스', '미래에셋대우']\n",
    "\n",
    "# interest 리스트를 사용하여 아래와 같이 화면에 출력하라"
   ]
  },
  {
   "cell_type": "markdown",
   "id": "d311b3c3",
   "metadata": {},
   "source": [
    "삼성전자 LG전자 Naver SK하이닉스 미래에셋대우"
   ]
  },
  {
   "cell_type": "code",
   "execution_count": 8,
   "id": "8be83390",
   "metadata": {},
   "outputs": [
    {
     "name": "stdout",
     "output_type": "stream",
     "text": [
      "삼성전자 LG전자 Naver SK하이닉스 미래에셋대우\n"
     ]
    }
   ],
   "source": [
    "total = \" \".join(interest)\n",
    "print(total)"
   ]
  },
  {
   "cell_type": "code",
   "execution_count": 9,
   "id": "17e1a323",
   "metadata": {},
   "outputs": [],
   "source": [
    "# 067 join 메소드\n",
    "# interest 리스트에는 아래의 데이터가 반영되어 있다.\n",
    "interest = ['삼성전자', 'LG전자', 'Naver', 'SK하이닉스', '미래에셋대우']\n",
    "\n",
    "# interest 리스트를 사용하여 아래와 같이 화면에 출력하라"
   ]
  },
  {
   "cell_type": "markdown",
   "id": "56c086ce",
   "metadata": {},
   "source": [
    "삼성전자/LG전자/Naver/SK하이닉스/미래에셋대우"
   ]
  },
  {
   "cell_type": "code",
   "execution_count": 10,
   "id": "7cf9e75e",
   "metadata": {},
   "outputs": [
    {
     "name": "stdout",
     "output_type": "stream",
     "text": [
      "삼성전자/LG전자/Naver/SK하이닉스/미래에셋대우\n"
     ]
    }
   ],
   "source": [
    "total = '/'.join(interest)\n",
    "print(total)"
   ]
  },
  {
   "cell_type": "code",
   "execution_count": 11,
   "id": "29d52441",
   "metadata": {},
   "outputs": [],
   "source": [
    "# 068 join 메소드\n",
    "# interest 리스트에는 아래의 데이터가 반영되어 있다.\n",
    "interest = ['삼성전자', 'LG전자', 'Naver', 'SK하이닉스', '미래에셋대우']\n",
    "\n",
    "# join() 메서드를 사용해서 interest 리스트를 아래와 같이 화면에 출력하라."
   ]
  },
  {
   "cell_type": "markdown",
   "id": "ff77afec",
   "metadata": {},
   "source": [
    "삼성전자\n",
    "\n",
    "LG전자\n",
    "\n",
    "Naver\n",
    "\n",
    "SK하이닉스\n",
    "\n",
    "미래에셋대우"
   ]
  },
  {
   "cell_type": "code",
   "execution_count": 12,
   "id": "e8fe1985",
   "metadata": {},
   "outputs": [
    {
     "name": "stdout",
     "output_type": "stream",
     "text": [
      "삼성전자\n",
      "LG전자\n",
      "Naver\n",
      "SK하이닉스\n",
      "미래에셋대우\n"
     ]
    }
   ],
   "source": [
    "sep = \"\\n\".join(interest)\n",
    "print(sep)"
   ]
  },
  {
   "cell_type": "code",
   "execution_count": 13,
   "id": "ed31412d",
   "metadata": {},
   "outputs": [],
   "source": [
    "# 069 문자열 split 메소드\n",
    "# 회사 이름이 슬래시('/')로 구분되어 하나의 문자열로 저장되어 있다\n",
    "string = \"삼성전자/LG전자/Naver\"\n",
    "\n",
    "# 이를 interest 이름의 리스트로 분리 저장하라"
   ]
  },
  {
   "cell_type": "markdown",
   "id": "18b0a5a2",
   "metadata": {},
   "source": [
    "['삼성전자', 'LG전자', 'Naver']"
   ]
  },
  {
   "cell_type": "code",
   "execution_count": 14,
   "id": "6b1ba160",
   "metadata": {},
   "outputs": [
    {
     "name": "stdout",
     "output_type": "stream",
     "text": [
      "['삼성전자', 'LG전자', 'Naver']\n"
     ]
    }
   ],
   "source": [
    "interest = string.split('/')\n",
    "print(interest)"
   ]
  },
  {
   "cell_type": "code",
   "execution_count": 15,
   "id": "117151e6",
   "metadata": {},
   "outputs": [
    {
     "name": "stdout",
     "output_type": "stream",
     "text": [
      "[1, 2, 3, 4, 5, 9, 10]\n"
     ]
    }
   ],
   "source": [
    "# 070 리스트 정렬\n",
    "# 리스트에 있는 값을 오름차순으로 정렬하세요\n",
    "\n",
    "data = [2, 4, 3, 1, 5, 10, 9]\n",
    "a = sorted(data)\n",
    "print(a)"
   ]
  }
 ],
 "metadata": {
  "kernelspec": {
   "display_name": "Python 3",
   "language": "python",
   "name": "python3"
  },
  "language_info": {
   "codemirror_mode": {
    "name": "ipython",
    "version": 3
   },
   "file_extension": ".py",
   "mimetype": "text/x-python",
   "name": "python",
   "nbconvert_exporter": "python",
   "pygments_lexer": "ipython3",
   "version": "3.8.8"
  }
 },
 "nbformat": 4,
 "nbformat_minor": 5
}
