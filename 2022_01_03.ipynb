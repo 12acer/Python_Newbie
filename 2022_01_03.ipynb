{
 "cells": [
  {
   "cell_type": "code",
   "execution_count": 1,
   "id": "b84fd1f4",
   "metadata": {},
   "outputs": [
    {
     "name": "stdout",
     "output_type": "stream",
     "text": [
      "Hello World\n"
     ]
    }
   ],
   "source": [
    "# 001 print 기초\n",
    "\n",
    "print(\"Hello World\")"
   ]
  },
  {
   "cell_type": "code",
   "execution_count": 2,
   "id": "40a671ec",
   "metadata": {},
   "outputs": [
    {
     "name": "stdout",
     "output_type": "stream",
     "text": [
      "Mary's cosmetics\n"
     ]
    }
   ],
   "source": [
    "# 002 print 기초\n",
    "\n",
    "print(\"Mary's cosmetics\")"
   ]
  },
  {
   "cell_type": "code",
   "execution_count": 5,
   "id": "7004fcda",
   "metadata": {},
   "outputs": [
    {
     "name": "stdout",
     "output_type": "stream",
     "text": [
      "신씨가 소리질렀다. \"도둑이야\".\n"
     ]
    }
   ],
   "source": [
    "# 003 print 기초\n",
    "\n",
    "print(\"신씨가 소리질렀다.\", '\"도둑이야\".')"
   ]
  },
  {
   "cell_type": "code",
   "execution_count": 6,
   "id": "2578b88f",
   "metadata": {},
   "outputs": [
    {
     "name": "stdout",
     "output_type": "stream",
     "text": [
      "\"C\\Windows\"\n"
     ]
    }
   ],
   "source": [
    "# 004 print 기초\n",
    "\n",
    "print('\"C\\Windows\"')"
   ]
  },
  {
   "cell_type": "code",
   "execution_count": 7,
   "id": "5cf016a0",
   "metadata": {},
   "outputs": [
    {
     "name": "stdout",
     "output_type": "stream",
     "text": [
      "안녕하세요.\n",
      "만나서\t\t반갑습니다.\n"
     ]
    }
   ],
   "source": [
    "# 005 print 탭과 줄바꿈\n",
    "\n",
    "print(\"안녕하세요.\\n만나서\\t\\t반갑습니다.\")"
   ]
  },
  {
   "cell_type": "code",
   "execution_count": 9,
   "id": "399b5d5a",
   "metadata": {},
   "outputs": [
    {
     "name": "stdout",
     "output_type": "stream",
     "text": [
      "오늘은 월요일\n"
     ]
    }
   ],
   "source": [
    "# 006 print 여러 데이터 출력\n",
    "\n",
    "print(\"오늘은\", \"월요일\")"
   ]
  },
  {
   "cell_type": "code",
   "execution_count": 15,
   "id": "105fbeb3",
   "metadata": {},
   "outputs": [
    {
     "name": "stdout",
     "output_type": "stream",
     "text": [
      "naver;kakap;sk;samsung\n"
     ]
    }
   ],
   "source": [
    "# 007 print 기초\n",
    "\n",
    "print(\"naver;kakap;sk;samsung\")"
   ]
  },
  {
   "cell_type": "code",
   "execution_count": 16,
   "id": "fda08754",
   "metadata": {},
   "outputs": [
    {
     "name": "stdout",
     "output_type": "stream",
     "text": [
      "naver/kakao/sk/samsung\n"
     ]
    }
   ],
   "source": [
    "# 008 print 기초\n",
    "\n",
    "print(\"naver/kakao/sk/samsung\")"
   ]
  },
  {
   "cell_type": "code",
   "execution_count": 14,
   "id": "fc6597e6",
   "metadata": {},
   "outputs": [
    {
     "name": "stdout",
     "output_type": "stream",
     "text": [
      "firstsecond\n"
     ]
    }
   ],
   "source": [
    "# 0089 줄바꿈\n",
    "\n",
    "print(\"first\", end=\"\");print(\"second\")"
   ]
  },
  {
   "cell_type": "code",
   "execution_count": 17,
   "id": "61535c20",
   "metadata": {},
   "outputs": [
    {
     "name": "stdout",
     "output_type": "stream",
     "text": [
      "1.6666666666666667\n"
     ]
    }
   ],
   "source": [
    "# 010 연산 결과 출력\n",
    "\n",
    "print(5/3)"
   ]
  },
  {
   "cell_type": "code",
   "execution_count": 23,
   "id": "6545fe9f",
   "metadata": {},
   "outputs": [
    {
     "name": "stdout",
     "output_type": "stream",
     "text": [
      "평가금액은 500000 원\n"
     ]
    }
   ],
   "source": [
    "# 011 변수 사용하기\n",
    "\n",
    "samsung_electro = 50000\n",
    "person = samsung_electro * 10\n",
    "\n",
    "print(\"평가금액은\", person,\"원\")"
   ]
  },
  {
   "cell_type": "code",
   "execution_count": 24,
   "id": "da1683c0",
   "metadata": {},
   "outputs": [
    {
     "name": "stdout",
     "output_type": "stream",
     "text": [
      "298000000000000 <class 'int'>\n",
      "50000 <class 'int'>\n",
      "15.79 <class 'float'>\n"
     ]
    }
   ],
   "source": [
    "# 012 변수 사용하기\n",
    "\n",
    "total = 298000000000000\n",
    "now = 50000\n",
    "per = 15.79\n",
    "\n",
    "print(total, type(total))\n",
    "print(now, type(now))\n",
    "print(per, type(per))"
   ]
  },
  {
   "cell_type": "code",
   "execution_count": 25,
   "id": "6bdc648f",
   "metadata": {},
   "outputs": [
    {
     "name": "stdout",
     "output_type": "stream",
     "text": [
      "hello! python\n"
     ]
    }
   ],
   "source": [
    "# 013 문자열 출력\n",
    "\n",
    "s = 'hello'\n",
    "t = 'python'\n",
    "print(s+'!', t)"
   ]
  },
  {
   "cell_type": "code",
   "execution_count": 26,
   "id": "b17946d1",
   "metadata": {},
   "outputs": [
    {
     "name": "stdout",
     "output_type": "stream",
     "text": [
      "8\n"
     ]
    }
   ],
   "source": [
    "# 014 파이썬을 이용한 값 계산\n",
    "\n",
    "print(2+2*3)"
   ]
  },
  {
   "cell_type": "code",
   "execution_count": 28,
   "id": "b23c1a89",
   "metadata": {},
   "outputs": [
    {
     "name": "stdout",
     "output_type": "stream",
     "text": [
      "<class 'str'>\n"
     ]
    }
   ],
   "source": [
    "# 015 type 함수\n",
    "\n",
    "a = '132'\n",
    "print(type(a))"
   ]
  },
  {
   "cell_type": "code",
   "execution_count": 30,
   "id": "27869ea5",
   "metadata": {},
   "outputs": [
    {
     "name": "stdout",
     "output_type": "stream",
     "text": [
      "<class 'int'>\n",
      "720\n"
     ]
    }
   ],
   "source": [
    "# 016 문자열을 정수로 변환\n",
    "\n",
    "num_str = '720'\n",
    "num_int = int(num_str)\n",
    "print(type(num_int))\n",
    "print(num_int)"
   ]
  },
  {
   "cell_type": "code",
   "execution_count": 31,
   "id": "415d0dba",
   "metadata": {},
   "outputs": [
    {
     "name": "stdout",
     "output_type": "stream",
     "text": [
      "<class 'str'>\n",
      "100\n"
     ]
    }
   ],
   "source": [
    "# 017 정수를 문자열 100으로 변환\n",
    "\n",
    "num = 100\n",
    "num_str = str(num)\n",
    "print(type(num_str))\n",
    "print(num_str)"
   ]
  },
  {
   "cell_type": "code",
   "execution_count": 33,
   "id": "24fb522f",
   "metadata": {},
   "outputs": [
    {
     "name": "stdout",
     "output_type": "stream",
     "text": [
      "<class 'float'>\n",
      "15.79\n"
     ]
    }
   ],
   "source": [
    "# 018 문자열을 실수로 변환\n",
    "\n",
    "num_str = \"15.79\"\n",
    "num_fl = float(num_str)\n",
    "print(type(num_fl))\n",
    "print(num_fl)"
   ]
  },
  {
   "cell_type": "code",
   "execution_count": 34,
   "id": "8fb99955",
   "metadata": {},
   "outputs": [
    {
     "name": "stdout",
     "output_type": "stream",
     "text": [
      "<class 'int'>\n",
      "2020\n"
     ]
    }
   ],
   "source": [
    "# 019 문자열을 정수로 변환\n",
    "\n",
    "year = \"2020\"\n",
    "year_int = int(year)\n",
    "print(type(year_int))\n",
    "print(year_int)"
   ]
  },
  {
   "cell_type": "code",
   "execution_count": 35,
   "id": "1ea4247d",
   "metadata": {},
   "outputs": [
    {
     "name": "stdout",
     "output_type": "stream",
     "text": [
      "1749024\n"
     ]
    }
   ],
   "source": [
    "# 020 파이썬 계산\n",
    "\n",
    "monthly = 48584\n",
    "all_cost = 36\n",
    "total = monthly * all_cost\n",
    "print(total)"
   ]
  }
 ],
 "metadata": {
  "kernelspec": {
   "display_name": "Python 3",
   "language": "python",
   "name": "python3"
  },
  "language_info": {
   "codemirror_mode": {
    "name": "ipython",
    "version": 3
   },
   "file_extension": ".py",
   "mimetype": "text/x-python",
   "name": "python",
   "nbconvert_exporter": "python",
   "pygments_lexer": "ipython3",
   "version": "3.8.8"
  }
 },
 "nbformat": 4,
 "nbformat_minor": 5
}
