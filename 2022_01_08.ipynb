{
 "cells": [
  {
   "cell_type": "code",
   "execution_count": 1,
   "id": "457e486f",
   "metadata": {},
   "outputs": [
    {
     "name": "stdout",
     "output_type": "stream",
     "text": [
      "BTC_KRW\n"
     ]
    }
   ],
   "source": [
    "# 041 upper 메소드\n",
    "# 문자열을 대문자로\n",
    "\n",
    "ticker = 'btc_krw'\n",
    "TICKER = ticker.upper()\n",
    "\n",
    "print(TICKER)"
   ]
  },
  {
   "cell_type": "code",
   "execution_count": 2,
   "id": "8b26fea2",
   "metadata": {},
   "outputs": [
    {
     "name": "stdout",
     "output_type": "stream",
     "text": [
      "btc_krw\n"
     ]
    }
   ],
   "source": [
    "# 042 lower 메소드\n",
    "# 문자열을 소문자로\n",
    "\n",
    "ticker = 'BTC_KRW'\n",
    "ticker_low = ticker.lower()\n",
    "\n",
    "print(ticker_low)"
   ]
  },
  {
   "cell_type": "code",
   "execution_count": 3,
   "id": "049e5658",
   "metadata": {},
   "outputs": [
    {
     "name": "stdout",
     "output_type": "stream",
     "text": [
      "Hello\n"
     ]
    }
   ],
   "source": [
    "# 043 capitalize 메소드\n",
    "# 문자열의 첫글자만 대문자로 변환\n",
    "\n",
    "a = 'hello'\n",
    "b = a.capitalize()\n",
    "\n",
    "print(b)"
   ]
  },
  {
   "cell_type": "code",
   "execution_count": 4,
   "id": "95d7d9db",
   "metadata": {},
   "outputs": [
    {
     "name": "stdout",
     "output_type": "stream",
     "text": [
      "True\n"
     ]
    }
   ],
   "source": [
    "# 044 endswith 메소드\n",
    "# 파일 이름이 문자열로 저장되어 있을 때 endswith 메소드를 사용해서\n",
    "# 파일 이름이 'xlsx'로 끝나는지 확인\n",
    "\n",
    "file_name = \"보고서.xlsx\"\n",
    "a = file_name.endswith(\"xlsx\")\n",
    "print(a)"
   ]
  },
  {
   "cell_type": "code",
   "execution_count": 5,
   "id": "2e49da3c",
   "metadata": {},
   "outputs": [
    {
     "name": "stdout",
     "output_type": "stream",
     "text": [
      "True\n"
     ]
    }
   ],
   "source": [
    "# 045 endswith 메소드\n",
    "# 파일 이름이 문자열로 저장되어 있을 때 endswith 메소드를 사용해서\n",
    "# 파일 이름이 'xlsx' 또는 'xls'로 끝나는지 확인\n",
    "\n",
    "file_name = \"보고서.xlsx\"\n",
    "a = file_name.endswith((\"xlsx\", 'xls'))\n",
    "print(a)"
   ]
  },
  {
   "cell_type": "code",
   "execution_count": 6,
   "id": "cfef83bc",
   "metadata": {},
   "outputs": [
    {
     "name": "stdout",
     "output_type": "stream",
     "text": [
      "True\n"
     ]
    }
   ],
   "source": [
    "# 046 startswith 메소드\n",
    "# 파일 이름이 문자열로 저장되어 있을 때 startswith 메소드를 사용해서\n",
    "# 파일 이름이 '2020'으로 시작하는지 확인\n",
    "\n",
    "file_name = \"2020_보고서.xlsx\"\n",
    "a = file_name.startswith(\"2020\")\n",
    "print(a)"
   ]
  },
  {
   "cell_type": "code",
   "execution_count": 7,
   "id": "2e9d476a",
   "metadata": {},
   "outputs": [
    {
     "name": "stdout",
     "output_type": "stream",
     "text": [
      "['hello', 'world']\n"
     ]
    }
   ],
   "source": [
    "# 047 split 메소드\n",
    "# 다음과 같은 문자열이 있을 때 공백을 기준으로 문자열을 나눠보기\n",
    "\n",
    "a = \"hello world\"\n",
    "b = a.split(\" \")\n",
    "print(b)"
   ]
  },
  {
   "cell_type": "code",
   "execution_count": 8,
   "id": "3fd340f6",
   "metadata": {},
   "outputs": [
    {
     "name": "stdout",
     "output_type": "stream",
     "text": [
      "['btc', 'krw']\n"
     ]
    }
   ],
   "source": [
    "# 048 split 메소드\n",
    "# 다음과 같은 문자열을 btc와 krw로 나눠보기\n",
    "\n",
    "ticker = \"btc_krw\"\n",
    "a = ticker.split(\"_\")\n",
    "print(a)"
   ]
  },
  {
   "cell_type": "code",
   "execution_count": 9,
   "id": "3f090c77",
   "metadata": {},
   "outputs": [
    {
     "name": "stdout",
     "output_type": "stream",
     "text": [
      "['2022', '01', '08']\n"
     ]
    }
   ],
   "source": [
    "# 049 split 메소드\n",
    "# 다음과 같은 날짜를 표현하는 문자열이 있을 때\n",
    "# 연도, 월, 일로 나눠보기\n",
    "\n",
    "date = \"2022-01-08\"\n",
    "a = date.split('-')\n",
    "print(a)"
   ]
  },
  {
   "cell_type": "code",
   "execution_count": 10,
   "id": "3a2c9803",
   "metadata": {},
   "outputs": [
    {
     "name": "stdout",
     "output_type": "stream",
     "text": [
      "039490     039490\n",
      "039490 039490    \n"
     ]
    }
   ],
   "source": [
    "# 050 rstrip 메소드\n",
    "# 문자열의 오른쪽에 공백이 있을 때 이를 제거해보세요\n",
    "\n",
    "data = \"039490    \"\n",
    "a = data.rstrip(\" \")\n",
    "print(data, a)\n",
    "print(a, data)"
   ]
  }
 ],
 "metadata": {
  "kernelspec": {
   "display_name": "Python 3",
   "language": "python",
   "name": "python3"
  },
  "language_info": {
   "codemirror_mode": {
    "name": "ipython",
    "version": 3
   },
   "file_extension": ".py",
   "mimetype": "text/x-python",
   "name": "python",
   "nbconvert_exporter": "python",
   "pygments_lexer": "ipython3",
   "version": "3.8.8"
  }
 },
 "nbformat": 4,
 "nbformat_minor": 5
}
